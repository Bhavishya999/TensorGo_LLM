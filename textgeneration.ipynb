from transformers import GPT2Tokenizer, GPT2LMHeadModel, BertTokenizer, BertForSequenceClassification
from transformers import pipeline, TextClassificationPipeline

# Load GPT-2 Model and Tokenizer
gpt2_tokenizer = GPT2Tokenizer.from_pretrained("gpt2")
gpt2_model = GPT2LMHeadModel.from_pretrained("gpt2")

# Load BERT Model and Tokenizer (for comparison, BERT is used for sentiment analysis)
bert_tokenizer = BertTokenizer.from_pretrained("bert-base-uncased")
bert_model = BertForSequenceClassification.from_pretrained("bert-base-uncased")

# Sample text for GPT-2 generation
gpt2_input_text = "In a future where AI has advanced to"

# Encode input text
input_ids = gpt2_tokenizer.encode(gpt2_input_text, return_tensors='pt')

# Generate text with GPT-2
gpt2_output = gpt2_model.generate(
    input_ids,
    max_length=100,  # Max length of generated text
    num_return_sequences=1,  # Number of sequences to generate
    no_repeat_ngram_size=2,  # Avoid repeating n-grams
    top_k=50,  # Consider the top 50 tokens by probability
    top_p=0.95,  # Use nucleus sampling
    temperature=0.7  # Sampling temperature
)

# Decode generated text
gpt2_generated_text = gpt2_tokenizer.decode(gpt2_output[0], skip_special_tokens=True)

print("GPT-2 Generated Text:")
print(gpt2_generated_text)

# For sentiment analysis using BERT
bert_classifier = TextClassificationPipeline(model=bert_model, tokenizer=bert_tokenizer)

# Sample text for sentiment analysis
bert_input_text = "I love this movie. It was amazing!"

# Classify sentiment
bert_output = bert_classifier(bert_input_text)

print("\nBERT Sentiment Analysis Result:")
print(bert_output)


output:

GPT-2 Generated Text:
In a future where AI has advanced to the point where it can be used to solve complex problems, it's important to understand how it works.

The AI is a machine learning system that learns to recognize and respond to information. It's a system of learning to learn, and it learns by doing so. The AI learns from the information it receives, so it knows what to do. If it doesn't know what it wants to know, then it will try to guess it. This is

BERT Sentiment Analysis Result:
[{'label': 'LABEL_0', 'score': 0.6288474798202515}]
